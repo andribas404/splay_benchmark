{
 "cells": [
  {
   "cell_type": "code",
   "execution_count": 3,
   "metadata": {},
   "outputs": [
    {
     "data": {
      "text/html": [
       "<div>\n",
       "<style scoped>\n",
       "    .dataframe tbody tr th:only-of-type {\n",
       "        vertical-align: middle;\n",
       "    }\n",
       "\n",
       "    .dataframe tbody tr th {\n",
       "        vertical-align: top;\n",
       "    }\n",
       "\n",
       "    .dataframe thead th {\n",
       "        text-align: right;\n",
       "    }\n",
       "</style>\n",
       "<table border=\"1\" class=\"dataframe\">\n",
       "  <thead>\n",
       "    <tr style=\"text-align: right;\">\n",
       "      <th></th>\n",
       "      <th>name</th>\n",
       "      <th>avg</th>\n",
       "      <th>0</th>\n",
       "      <th>1</th>\n",
       "      <th>2</th>\n",
       "      <th>3</th>\n",
       "      <th>4</th>\n",
       "    </tr>\n",
       "  </thead>\n",
       "  <tbody>\n",
       "    <tr>\n",
       "      <th>0</th>\n",
       "      <td>python</td>\n",
       "      <td>9.213722</td>\n",
       "      <td>8.393930</td>\n",
       "      <td>9.726687</td>\n",
       "      <td>8.991125</td>\n",
       "      <td>10.480992</td>\n",
       "      <td>8.475879</td>\n",
       "    </tr>\n",
       "    <tr>\n",
       "      <th>1</th>\n",
       "      <td>pypy</td>\n",
       "      <td>1.149557</td>\n",
       "      <td>1.280481</td>\n",
       "      <td>1.107438</td>\n",
       "      <td>1.124969</td>\n",
       "      <td>1.125710</td>\n",
       "      <td>1.109186</td>\n",
       "    </tr>\n",
       "    <tr>\n",
       "      <th>2</th>\n",
       "      <td>cython</td>\n",
       "      <td>0.826612</td>\n",
       "      <td>0.737428</td>\n",
       "      <td>0.771607</td>\n",
       "      <td>0.779911</td>\n",
       "      <td>0.995549</td>\n",
       "      <td>0.848565</td>\n",
       "    </tr>\n",
       "    <tr>\n",
       "      <th>3</th>\n",
       "      <td>cpp</td>\n",
       "      <td>0.353415</td>\n",
       "      <td>0.375835</td>\n",
       "      <td>0.351816</td>\n",
       "      <td>0.335302</td>\n",
       "      <td>0.342633</td>\n",
       "      <td>0.361489</td>\n",
       "    </tr>\n",
       "  </tbody>\n",
       "</table>\n",
       "</div>"
      ],
      "text/plain": [
       "     name       avg         0         1         2          3         4\n",
       "0  python  9.213722  8.393930  9.726687  8.991125  10.480992  8.475879\n",
       "1    pypy  1.149557  1.280481  1.107438  1.124969   1.125710  1.109186\n",
       "2  cython  0.826612  0.737428  0.771607  0.779911   0.995549  0.848565\n",
       "3     cpp  0.353415  0.375835  0.351816  0.335302   0.342633  0.361489"
      ]
     },
     "execution_count": 3,
     "metadata": {},
     "output_type": "execute_result"
    }
   ],
   "source": [
    "import pandas as pd\n",
    "df = pd.read_csv(\"results.csv\")\n",
    "df"
   ]
  },
  {
   "cell_type": "code",
   "execution_count": null,
   "metadata": {},
   "outputs": [],
   "source": []
  }
 ],
 "metadata": {
  "kernelspec": {
   "display_name": "Python 3",
   "language": "python",
   "name": "python3"
  },
  "language_info": {
   "codemirror_mode": {
    "name": "ipython",
    "version": 3
   },
   "file_extension": ".py",
   "mimetype": "text/x-python",
   "name": "python",
   "nbconvert_exporter": "python",
   "pygments_lexer": "ipython3",
   "version": "3.7.5"
  }
 },
 "nbformat": 4,
 "nbformat_minor": 2
}
